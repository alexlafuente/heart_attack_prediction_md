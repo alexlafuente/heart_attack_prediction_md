{
 "cells": [
  {
   "cell_type": "markdown",
   "metadata": {},
   "source": [
    "# K-NN in python: search for the best k"
   ]
  },
  {
   "cell_type": "markdown",
   "metadata": {},
   "source": [
    "## 1- Load the required modeules"
   ]
  },
  {
   "cell_type": "code",
   "execution_count": 4,
   "metadata": {
    "ExecuteTime": {
     "end_time": "2023-05-16T18:25:36.667279Z",
     "start_time": "2023-05-16T18:25:22.440050Z"
    }
   },
   "outputs": [],
   "source": [
    "import numpy as np                     # Llibreria matemÃƒÂ tica\n",
    "import matplotlib.pyplot as plt        # Per mostrar plots\n",
    "import sklearn                         # Llibreia de DM\n",
    "import sklearn.datasets as ds            # Per carregar mÃƒÂ©s facilment el dataset digits\n",
    "import pandas as pd\n",
    "import sklearn.model_selection as cv    # Pel Cross-validation\n",
    "import sklearn.neighbors as nb           # Per fer servir el knn\n",
    "from sklearn.model_selection import train_test_split, StratifiedKFold, cross_val_score, GridSearchCV\n",
    "from sklearn.metrics import recall_score, make_scorer, classification_report\n",
    "from sklearn.preprocessing import StandardScaler\n",
    "from sklearn.feature_selection import mutual_info_classif, SelectKBest\n",
    "from sklearn.metrics import confusion_matrix\n",
    "from sklearn.model_selection import cross_val_score  \n",
    "from sklearn.model_selection import cross_val_predict  \n",
    "from sklearn.metrics import accuracy_score\n",
    "\n",
    "%matplotlib inline                     "
   ]
  },
  {
   "cell_type": "code",
   "execution_count": 5,
   "metadata": {},
   "outputs": [],
   "source": [
    "def plot_cmatrix(y_test, y_pred_test):\n",
    "    confmat = confusion_matrix(y_test, y_pred_test)\n",
    "    fig, ax = plt.subplots(figsize=(2.5, 2.5))\n",
    "    ax.matshow(confmat, cmap=plt.cm.Purples, alpha=0.3)\n",
    "    for i in range(confmat.shape[0]):\n",
    "        for j in range(confmat.shape[1]):\n",
    "            ax.text(x=j, y=i, s=confmat[i, j], va='center', ha='center',fontsize=10)\n",
    "    \n",
    "    plt.xlabel('Predicted label')\n",
    "    plt.ylabel('True label')\n",
    "    \n",
    "    plt.tight_layout()\n",
    "    #plt.savefig('ConMatrixNB_fit_thres.png', dpi=600)\n",
    "    plt.show()\n",
    "    print(recall_score(y_test, y_pred_test))\n",
    "    print(classification_report(y_test, y_pred_test))"
   ]
  },
  {
   "cell_type": "markdown",
   "metadata": {},
   "source": [
    "## 2- Load the data"
   ]
  },
  {
   "cell_type": "code",
   "execution_count": 6,
   "metadata": {
    "ExecuteTime": {
     "end_time": "2023-05-16T18:25:36.771501Z",
     "start_time": "2023-05-16T18:25:36.677581Z"
    }
   },
   "outputs": [],
   "source": [
    "# Load digits dataset\n",
    "data = pd.read_csv(\"data_balanced_normalized.csv\", \n",
    "                        na_values=['NA', 'N/A'],\n",
    "                        keep_default_na=False)\n",
    "\n",
    "#sampled_data, _ = train_test_split(\n",
    " #   data,\n",
    "  #  train_size=20000,\n",
    "   # stratify=data['heart_attack'],\n",
    "   # random_state=42\n",
    "\n",
    "#)\n",
    "\n",
    "# Separate data from labels\n",
    "y = data['heart_attack']\n",
    "X = data.drop(columns=['heart_attack'])\n",
    "\n",
    "\n",
    "\n",
    "# Train-test split on the sampled data (BEFORE preprocessing)\n",
    "X_train, X_test, y_train, y_test = train_test_split(\n",
    "    X, y, test_size=0.5, stratify=y, random_state=42 # random_state always with the same fixed value -> data split always the same; random_state = none -> each execution\n",
    "    # will generate random values, and both data training and testing sets will differ for each execution\n",
    "    # test_size = 0.3 -> 30% for data testing\n",
    "    # For now, we keep it at 42 for reproducivility (we use 42 because it's the answer to the Ultimate Question of Life, the Universe, and Everything is 42)\n",
    ")\n",
    "#print(X)"
   ]
  },
  {
   "cell_type": "markdown",
   "metadata": {},
   "source": [
    "## 3- Simple cross-validation"
   ]
  },
  {
   "cell_type": "code",
   "execution_count": 7,
   "metadata": {
    "ExecuteTime": {
     "end_time": "2023-05-16T18:25:36.992939Z",
     "start_time": "2023-05-16T18:25:36.771501Z"
    }
   },
   "outputs": [
    {
     "name": "stdout",
     "output_type": "stream",
     "text": [
      "0.7725104306069432\n"
     ]
    }
   ],
   "source": [
    "\n",
    "# Create a kNN classifier object\n",
    "knc = nb.KNeighborsClassifier()\n",
    "\n",
    "# Train the classifier\n",
    "knc.fit(X_train, y_train)\n",
    "\n",
    "# Obtain accuracy score of learned classifier on test data\n",
    "print(knc.score(X_test, y_test))\n",
    "\n"
   ]
  },
  {
   "cell_type": "code",
   "execution_count": 8,
   "metadata": {
    "ExecuteTime": {
     "end_time": "2023-05-16T18:25:37.009039Z",
     "start_time": "2023-05-16T18:25:36.834042Z"
    }
   },
   "outputs": [
    {
     "name": "stdout",
     "output_type": "stream",
     "text": [
      "[[28504  3261]\n",
      " [11188 20562]]\n"
     ]
    }
   ],
   "source": [
    "# More information with confussion matrix\n",
    "\n",
    "y_pred = knc.predict(X_test)\n",
    "print(sklearn.metrics.confusion_matrix(y_test, y_pred))"
   ]
  },
  {
   "cell_type": "code",
   "execution_count": 36,
   "metadata": {},
   "outputs": [],
   "source": []
  },
  {
   "cell_type": "code",
   "execution_count": 9,
   "metadata": {
    "ExecuteTime": {
     "end_time": "2023-05-16T18:25:37.009039Z",
     "start_time": "2023-05-16T18:25:36.881815Z"
    }
   },
   "outputs": [
    {
     "name": "stdout",
     "output_type": "stream",
     "text": [
      "              precision    recall  f1-score   support\n",
      "\n",
      "           0       0.72      0.90      0.80     31765\n",
      "           1       0.86      0.65      0.74     31750\n",
      "\n",
      "    accuracy                           0.77     63515\n",
      "   macro avg       0.79      0.77      0.77     63515\n",
      "weighted avg       0.79      0.77      0.77     63515\n",
      "\n"
     ]
    },
    {
     "data": {
      "image/png": "[encoded data removed]",
      "text/plain": [
       "<Figure size 250x250 with 1 Axes>"
      ]
     },
     "metadata": {},
     "output_type": "display_data"
    },
    {
     "name": "stdout",
     "output_type": "stream",
     "text": [
      "0.6476220472440944\n",
      "              precision    recall  f1-score   support\n",
      "\n",
      "           0       0.72      0.90      0.80     31765\n",
      "           1       0.86      0.65      0.74     31750\n",
      "\n",
      "    accuracy                           0.77     63515\n",
      "   macro avg       0.79      0.77      0.77     63515\n",
      "weighted avg       0.79      0.77      0.77     63515\n",
      "\n"
     ]
    }
   ],
   "source": [
    "# Obtain Recall, Precision and F-Measure for each class\n",
    "from sklearn import metrics\n",
    "\n",
    "print(metrics.classification_report(y_test, y_pred))\n",
    "plot_cmatrix(y_test, y_pred)"
   ]
  },
  {
   "cell_type": "markdown",
   "metadata": {},
   "source": [
    "### Let's build a one by hand to see prediction"
   ]
  },
  {
   "cell_type": "markdown",
   "metadata": {},
   "source": [
    "## 4- Let's do a 10-fold cross-validation"
   ]
  },
  {
   "cell_type": "code",
   "execution_count": 10,
   "metadata": {
    "ExecuteTime": {
     "end_time": "2023-05-16T18:25:37.183674Z",
     "start_time": "2023-05-16T18:25:36.913775Z"
    }
   },
   "outputs": [
    {
     "name": "stdout",
     "output_type": "stream",
     "text": [
      "[0.64944882 0.64566929 0.64535433 0.64944882 0.64672544 0.63779528\n",
      " 0.64251969 0.64125984 0.65322835 0.65385827]\n"
     ]
    }
   ],
   "source": [
    "# Method 1\n",
    "from sklearn.model_selection import cross_val_score  \n",
    "from sklearn.model_selection import cross_val_predict  \n",
    "from sklearn.metrics import accuracy_score\n",
    "\n",
    "cv_scores = cross_val_score(nb.KNeighborsClassifier(),  \n",
    "                            X=X_train,  \n",
    "                            y=y_train,  \n",
    "                            cv=10, scoring='recall')\n",
    "\n",
    "# cv_scores is a list with 10 accuracies (one for each validation)\n",
    "print(cv_scores)"
   ]
  },
  {
   "cell_type": "code",
   "execution_count": 13,
   "metadata": {
    "ExecuteTime": {
     "end_time": "2023-05-16T18:25:37.183674Z",
     "start_time": "2023-05-16T18:25:37.136358Z"
    }
   },
   "outputs": [
    {
     "name": "stdout",
     "output_type": "stream",
     "text": [
      "0.6670604344036589\n",
      "0.006906832853458682\n"
     ]
    }
   ],
   "source": [
    "# Let's get the mean of the 10 validations (and standard deviation of them)\n",
    "print(np.mean(cv_scores))\n",
    "print(np.std(cv_scores))"
   ]
  },
  {
   "cell_type": "code",
   "execution_count": 16,
   "metadata": {
    "ExecuteTime": {
     "end_time": "2023-05-16T18:25:37.390856Z",
     "start_time": "2023-05-16T18:25:37.159526Z"
    }
   },
   "outputs": [
    {
     "name": "stdout",
     "output_type": "stream",
     "text": [
      "0.6476220472440944\n"
     ]
    }
   ],
   "source": [
    "# Method 2\n",
    "# Build confussion matrix of all 10 cross-validations\n",
    "#cv = StratifiedKFold(n_splits = 10)\n",
    "cv = 10\n",
    "predicted = cross_val_predict(nb.KNeighborsClassifier(), X=X_train, y=y_train,  cv=10)\n"
   ]
  },
  {
   "cell_type": "code",
   "execution_count": 12,
   "metadata": {},
   "outputs": [
    {
     "name": "stdout",
     "output_type": "stream",
     "text": [
      "[[19887 11878]\n",
      " [19928 11822]]\n",
      "0.3723464566929134\n"
     ]
    }
   ],
   "source": [
    "print(sklearn.metrics.confusion_matrix(y_train, predicted))\n",
    "print(sklearn.metrics.recall_score(y_train, predicted))"
   ]
  },
  {
   "cell_type": "code",
   "execution_count": 25,
   "metadata": {},
   "outputs": [
    {
     "data": {
      "image/png": "[encoded data removed]",
      "text/plain": [
       "<Figure size 250x250 with 1 Axes>"
      ]
     },
     "metadata": {},
     "output_type": "display_data"
    },
    {
     "name": "stdout",
     "output_type": "stream",
     "text": [
      "0.6465308179269944\n",
      "              precision    recall  f1-score   support\n",
      "\n",
      "           0       0.72      0.90      0.80     31764\n",
      "           1       0.87      0.65      0.74     31751\n",
      "\n",
      "    accuracy                           0.77     63515\n",
      "   macro avg       0.79      0.77      0.77     63515\n",
      "weighted avg       0.79      0.77      0.77     63515\n",
      "\n"
     ]
    }
   ],
   "source": [
    "plot_cmatrix(y_train, predicted)"
   ]
  },
  {
   "cell_type": "markdown",
   "metadata": {},
   "source": [
    "## (Not yet checked) See how ammount of training data influences accuracy "
   ]
  },
  {
   "cell_type": "code",
   "execution_count": null,
   "metadata": {
    "ExecuteTime": {
     "end_time": "2023-05-16T18:26:00.067014Z",
     "start_time": "2023-05-16T18:25:38.361601Z"
    }
   },
   "outputs": [],
   "source": [
    "import matplotlib.pyplot as plt\n",
    "from sklearn.model_selection import learning_curve\n",
    "\n",
    "recall_scorer = make_scorer(recall_score, pos_label=1)\n",
    "\n",
    "train_sizes, train_scores, test_scores =\\\n",
    "                learning_curve(estimator=nb.KNeighborsClassifier(n_neighbors=3),\n",
    "                               X=X_train,\n",
    "                               y=y_train,\n",
    "                               train_sizes=np.linspace(0.05, 1.0, 10),\n",
    "                               cv=10,\n",
    "                               n_jobs=-1,\n",
    "                              scoring=recall_scorer)\n",
    "                                \n",
    "\n",
    "train_mean = np.mean(train_scores, axis=1)\n",
    "train_std = np.std(train_scores, axis=1)\n",
    "test_mean = np.mean(test_scores, axis=1)\n",
    "test_std = np.std(test_scores, axis=1)\n",
    "\n",
    "plt.plot(train_sizes, train_mean,\n",
    "         color='blue', marker='o',\n",
    "         markersize=5, label='training recall')\n",
    "\n",
    "plt.fill_between(train_sizes,\n",
    "                 train_mean + train_std,\n",
    "                 train_mean - train_std,\n",
    "                 alpha=0.15, color='blue')\n",
    "\n",
    "plt.plot(train_sizes, test_mean,\n",
    "         color='green', linestyle='--',\n",
    "         marker='s', markersize=5,\n",
    "         label='validation recall')\n",
    "\n",
    "plt.fill_between(train_sizes,\n",
    "                 test_mean + test_std,\n",
    "                 test_mean - test_std,\n",
    "                 alpha=0.15, color='green')\n",
    "\n",
    "plt.grid(True)\n",
    "plt.xlabel('Number of training samples')\n",
    "plt.ylabel('Recall')\n",
    "plt.legend(loc='lower right')\n",
    "plt.ylim([0, 1.03])\n",
    "plt.tight_layout()\n",
    "plt.savefig('learning_curve.png', dpi=600)\n",
    "plt.show()"
   ]
  },
  {
   "cell_type": "markdown",
   "metadata": {},
   "source": [
    "## 5- Finding best features for k-NN"
   ]
  },
  {
   "cell_type": "code",
   "execution_count": 45,
   "metadata": {},
   "outputs": [],
   "source": [
    "vector_of_means = np.zeros(33)\n",
    "for i in range(33):\n",
    "    X_new = SelectKBest(\n",
    "        mutual_info_classif, k = i + 1\n",
    "    ).fit_transform(X_train, y_train)\n",
    "    cv_scores = cross_val_score(\n",
    "        nb.KNeighborsClassifier(), \n",
    "        X = X_new,\n",
    "        y = y_train, \n",
    "        cv = 5, \n",
    "        scoring = \"recall\"\n",
    "    )\n",
    "    vector_of_means[i] = np.mean(cv_scores)\n",
    "\n"
   ]
  },
  {
   "cell_type": "code",
   "execution_count": 53,
   "metadata": {},
   "outputs": [
    {
     "data": {
      "image/png": "[encoded data removed]",
      "text/plain": [
       "<Figure size 1200x600 with 1 Axes>"
      ]
     },
     "metadata": {},
     "output_type": "display_data"
    }
   ],
   "source": [
    "fig = plt.figure(figsize = (12, 6))  # Just declare the figure object and give dimensions\n",
    "plt.grid(True)\n",
    "plt.title(\"Evolution of the recall against number of features used to train the model\")\n",
    "plt.ylabel(\"Recall of the model\")\n",
    "plt.xlabel(\"Number of features\")\n",
    "plt.xticks(np.arange(0, 33, step=1))\n",
    "plt.plot(range(1,34), vector_of_means)\n",
    "plt.show()\n",
    "\n"
   ]
  },
  {
   "cell_type": "code",
   "execution_count": 54,
   "metadata": {},
   "outputs": [
    {
     "data": {
      "image/png": "[encoded data removed]",
      "text/plain": [
       "<Figure size 250x250 with 1 Axes>"
      ]
     },
     "metadata": {},
     "output_type": "display_data"
    },
    {
     "name": "stdout",
     "output_type": "stream",
     "text": [
      "0.8034707568265567\n",
      "              precision    recall  f1-score   support\n",
      "\n",
      "           0       0.77      0.66      0.71     31764\n",
      "           1       0.70      0.80      0.75     31751\n",
      "\n",
      "    accuracy                           0.73     63515\n",
      "   macro avg       0.74      0.73      0.73     63515\n",
      "weighted avg       0.74      0.73      0.73     63515\n",
      "\n"
     ]
    }
   ],
   "source": [
    "X_new = SelectKBest(mutual_info_classif, k=3).fit_transform(X_train, y_train)\n",
    "\n",
    "predicted = cross_val_predict(nb.KNeighborsClassifier(), X=X_new, y=y_train,  cv=5)\n",
    "\n",
    "plot_cmatrix(y_train, predicted)"
   ]
  },
  {
   "cell_type": "markdown",
   "metadata": {},
   "source": [
    "## 5- Finding best parameters for k-NN (Yet to check)"
   ]
  },
  {
   "cell_type": "code",
   "execution_count": 34,
   "metadata": {
    "ExecuteTime": {
     "end_time": "2023-05-16T18:26:01.123872Z",
     "start_time": "2023-05-16T18:26:00.051381Z"
    }
   },
   "outputs": [
    {
     "data": {
      "image/png": "[encoded data removed]",
      "text/plain": [
       "<Figure size 640x480 with 1 Axes>"
      ]
     },
     "metadata": {},
     "output_type": "display_data"
    }
   ],
   "source": [
    "X_new = SelectKBest(\n",
    "    mutual_info_classif, \n",
    "    k = 3\n",
    ").fit_transform(X_train, y_train)\n",
    "\n",
    "recall_scorer = make_scorer(recall_score, pos_label=1)\n",
    "\n",
    "no_weighted_means = []\n",
    "for ki in range(1,33,2):\n",
    "    cv_scores = cross_val_score(\n",
    "        nb.KNeighborsClassifier(n_neighbors = ki), \n",
    "        X = X_new, \n",
    "        y = y_train, \n",
    "        cv = 10,\n",
    "        scoring=recall_scorer\n",
    "    )\n",
    "    no_weighted_means.append(np.mean(cv_scores))\n",
    "\n",
    "plt.plot(\n",
    "    range(1,33,2),\n",
    "    no_weighted_means,\n",
    "    \"b\",\n",
    "    label = \"No weighting\"\n",
    ")\n",
    "\n",
    "weighted_means = []\n",
    "for ki in range(1,33,2):\n",
    "    cv_scores = cross_val_score(\n",
    "        nb.KNeighborsClassifier(\n",
    "            n_neighbors = ki,\n",
    "            weights = \"distance\"\n",
    "        ), \n",
    "        X = X_new, \n",
    "        y = y_train, \n",
    "        cv = 10,\n",
    "        scoring=recall_scorer\n",
    "    )\n",
    "    weighted_means.append(np.mean(cv_scores))\n",
    "    \n",
    "plt.plot(\n",
    "    range(1,33,2),\n",
    "    weighted_means,\n",
    "    \"r\",\n",
    "    label = \"Weighting\"\n",
    ")\n",
    "\n",
    "plt.title(\"Weighted vs non weighted executions\")\n",
    "plt.xlabel(\"k\")\n",
    "plt.ylabel(\"Accuracy\")\n",
    "plt.legend(loc = \"upper right\")\n",
    "plt.grid()\n",
    "plt.tight_layout()\n",
    "plt.show()"
   ]
  },
  {
   "cell_type": "code",
   "execution_count": null,
   "metadata": {},
   "outputs": [],
   "source": [
    "cv_scores = cross_val_score(\n",
    "        nb.KNeighborsClassifier(n_neighbors = 7), \n",
    "        X = X_new, \n",
    "        y = y_train, \n",
    "        cv = 10,\n",
    "        scoring=recall_scorer\n",
    "    )\n",
    "\n",
    "\n",
    "\n",
    "plot_cmatrix(y_test, cv_scores)"
   ]
  },
  {
   "cell_type": "markdown",
   "metadata": {},
   "source": [
    "Based on the k best features that we found earlier, we now apply GridSearchCV in order to find the best parameters"
   ]
  },
  {
   "cell_type": "code",
   "execution_count": 59,
   "metadata": {},
   "outputs": [
    {
     "name": "stdout",
     "output_type": "stream",
     "text": [
      "Best Params = {'n_neighbors': 11, 'weights': 'distance'} Recall (Class 1) = 0.8265892481436987\n"
     ]
    }
   ],
   "source": [
    "params = {\n",
    "    \"n_neighbors\":list(range(1,20,2)), \n",
    "    \"weights\":('distance','uniform')\n",
    "}\n",
    "knc = nb.KNeighborsClassifier()\n",
    "\n",
    "# 1. Create a custom scorer for recall of class 1\n",
    "recall_scorer = make_scorer(recall_score, pos_label=1)\n",
    "\n",
    "# 2. Select k best features (assuming X_new and y_train are defined)\n",
    "selector = SelectKBest(mutual_info_classif, k=3)\n",
    "X_reduced = selector.fit_transform(X_train, y_train)\n",
    "X_test_reduced = selector.transform(X_test)\n",
    "\n",
    "# 3. Define cross-validation strategy\n",
    "cv = 5\n",
    "\n",
    "# 4. Update GridSearchCV to use recall_scorer\n",
    "clf = GridSearchCV(\n",
    "    knc, \n",
    "    param_grid=params, \n",
    "    cv=cv, \n",
    "    scoring=\"recall\",  # Critical change here\n",
    "    n_jobs=-1\n",
    ")\n"
   ]
  },
  {
   "cell_type": "markdown",
   "metadata": {},
   "source": [
    "### Authomatically find best parameters:"
   ]
  },
  {
   "cell_type": "markdown",
   "metadata": {},
   "source": [
    "Apply models with best parameters found trained with all training data to the test set"
   ]
  },
  {
   "cell_type": "code",
   "execution_count": null,
   "metadata": {},
   "outputs": [],
   "source": [
    "clf.fit(X_reduced, y_train)\n",
    "\n",
    "\n",
    "# 5. Print results\n",
    "print(\"Best Params =\", clf.best_params_, \"Recall (Class 1) =\", clf.best_score_)\n",
    "\n",
    "y_pred_test = clf.best_estimator_.predict(X_test_reduced)  # Critical fix"
   ]
  },
  {
   "cell_type": "code",
   "execution_count": 60,
   "metadata": {},
   "outputs": [
    {
     "data": {
      "image/png": "[encoded data removed]",
      "text/plain": [
       "<Figure size 250x250 with 1 Axes>"
      ]
     },
     "metadata": {},
     "output_type": "display_data"
    },
    {
     "name": "stdout",
     "output_type": "stream",
     "text": [
      "0.7832125984251969\n",
      "              precision    recall  f1-score   support\n",
      "\n",
      "           0       0.79      0.80      0.80     31765\n",
      "           1       0.80      0.78      0.79     31750\n",
      "\n",
      "    accuracy                           0.79     63515\n",
      "   macro avg       0.79      0.79      0.79     63515\n",
      "weighted avg       0.79      0.79      0.79     63515\n",
      "\n"
     ]
    }
   ],
   "source": [
    "# Plot confusion matrix for TEST SET (y_test vs. y_pred_test)\n",
    "plot_cmatrix(y_test, y_pred_test)  # Correct labels"
   ]
  },
  {
   "cell_type": "code",
   "execution_count": 66,
   "metadata": {},
   "outputs": [
    {
     "data": {
      "image/png": "[encoded data removed]",
      "text/plain": [
       "<Figure size 250x250 with 1 Axes>"
      ]
     },
     "metadata": {},
     "output_type": "display_data"
    },
    {
     "name": "stdout",
     "output_type": "stream",
     "text": [
      "0.7832125984251969\n",
      "              precision    recall  f1-score   support\n",
      "\n",
      "           0       0.79      0.80      0.80     31765\n",
      "           1       0.80      0.78      0.79     31750\n",
      "\n",
      "    accuracy                           0.79     63515\n",
      "   macro avg       0.79      0.79      0.79     63515\n",
      "weighted avg       0.79      0.79      0.79     63515\n",
      "\n"
     ]
    }
   ],
   "source": [
    "parval=clf.best_params_\n",
    "knc = nb.KNeighborsClassifier(n_neighbors=parval['n_neighbors'],weights=parval['weights'])\n",
    "knc.fit(X_reduced, y_train)\n",
    "pred=knc.predict(X_test_reduced)\n",
    "plot_cmatrix(y_test, pred)"
   ]
  },
  {
   "cell_type": "code",
   "execution_count": 22,
   "metadata": {
    "ExecuteTime": {
     "end_time": "2023-05-16T18:26:29.485562Z",
     "start_time": "2023-05-16T18:26:29.156236Z"
    }
   },
   "outputs": [
    {
     "name": "stdout",
     "output_type": "stream",
     "text": [
      "Can approximate by Normal Distribution?:  True\n",
      "Interval 95% confidence: 0.824 +/- 0.048\n"
     ]
    },
    {
     "data": {
      "text/plain": [
       "(0.7760164847424902, 0.8725190801110663)"
      ]
     },
     "execution_count": 22,
     "metadata": {},
     "output_type": "execute_result"
    }
   ],
   "source": [
    "# interval confidence\n",
    "from statsmodels.stats.proportion import proportion_confint\n",
    "\n",
    "epsilon = sklearn.metrics.accuracy_score(y_test, pred)\n",
    "print(\"Can approximate by Normal Distribution?: \",X_test.shape[0]*epsilon*(1-epsilon)>5)\n",
    "print(\"Interval 95% confidence:\", \"{0:.3f}\".format(epsilon), \"+/-\", \"{0:.3f}\".format(1.96*np.sqrt(epsilon*(1-epsilon)/X_test.shape[0])))\n",
    "# or equivalent \n",
    "proportion_confint(count=epsilon*X_test.shape[0], nobs=X_test.shape[0], alpha=0.05, method='normal')"
   ]
  },
  {
   "cell_type": "code",
   "execution_count": 23,
   "metadata": {
    "ExecuteTime": {
     "end_time": "2023-05-16T18:26:31.303023Z",
     "start_time": "2023-05-16T18:26:30.892918Z"
    }
   },
   "outputs": [
    {
     "data": {
      "text/plain": [
       "(0.7702500261379118, 0.8687427797705162)"
      ]
     },
     "execution_count": 23,
     "metadata": {},
     "output_type": "execute_result"
    }
   ],
   "source": [
    "#Using Binomial distribution\n",
    "\n",
    "proportion_confint(count=epsilon*X_test.shape[0], nobs=X_test.shape[0], alpha=0.05, method='binom_test')"
   ]
  },
  {
   "cell_type": "markdown",
   "metadata": {},
   "source": [
    "### Mcnemar's Test implementation"
   ]
  },
  {
   "cell_type": "code",
   "execution_count": 24,
   "metadata": {
    "ExecuteTime": {
     "end_time": "2023-05-16T18:26:33.807440Z",
     "start_time": "2023-05-16T18:26:33.470985Z"
    }
   },
   "outputs": [
    {
     "name": "stdout",
     "output_type": "stream",
     "text": [
      "Have the classifiers significant different accuracy?: True\n"
     ]
    }
   ],
   "source": [
    "# Build two classifiers\n",
    "\n",
    "# Classifier 1 (3 Neighbours) successes\n",
    "y_pred = cross_val_predict(nb.KNeighborsClassifier(n_neighbors=3), X=X, y=y,  cv=10) \n",
    "res1=np.zeros(y.shape)\n",
    "res1[y_pred==y]=1\n",
    "\n",
    "# Classifier 2 (7 Neighbours) 2 successes\n",
    "y_pred = cross_val_predict(nb.KNeighborsClassifier(n_neighbors=7), X=X, y=y,  cv=10) \n",
    "res2=np.zeros(y.shape)\n",
    "res2[y_pred==y]=1\n",
    "\n",
    "# Build contingency matrix\n",
    "n00 = np.sum([res1[res2==1]==1])\n",
    "n11 = np.sum([res1[res2==0]==0])\n",
    "n10 = np.sum([res1[res2==1]==0])\n",
    "n01 = np.sum([res1[res2==0]==1])\n",
    "\n",
    "# Chi -square test\n",
    "print(\"Have the classifiers significant different accuracy?:\",(np.abs(n01-n10)-1)**2/(n01+n10)>3.84)"
   ]
  }
 ],
 "metadata": {
  "anaconda-cloud": {},
  "kernelspec": {
   "display_name": "Python 3 (ipykernel)",
   "language": "python",
   "name": "python3"
  },
  "language_info": {
   "codemirror_mode": {
    "name": "ipython",
    "version": 3
   },
   "file_extension": ".py",
   "mimetype": "text/x-python",
   "name": "python",
   "nbconvert_exporter": "python",
   "pygments_lexer": "ipython3",
   "version": "3.13.3"
  }
 },
 "nbformat": 4,
 "nbformat_minor": 4
}
