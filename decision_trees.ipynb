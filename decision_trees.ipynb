{
 "cells": [
  {
   "cell_type": "markdown",
   "id": "8f7b5966",
   "metadata": {},
   "source": [
    "### Train and Print A Decision Tree"
   ]
  },
  {
   "cell_type": "code",
   "execution_count": null,
   "id": "6d710de4",
   "metadata": {},
   "outputs": [],
   "source": [
    "%matplotlib inline\n",
    "\n",
    "import math\n",
    "import numpy as np\n",
    "import matplotlib.pyplot as plt\n",
    "\n",
    "from sklearn import model_selection as cv\n",
    "from sklearn.tree import DecisionTreeClassifier, plot_tree\n",
    "from sklearn.datasets import load_digits\n",
    "from sklearn.naive_bayes import GaussianNB, MultinomialNB, BernoulliNB\n",
    "from sklearn.metrics import confusion_matrix, accuracy_score, classification_report\n",
    "from sklearn.model_selection import train_test_split\n",
    "\n",
    "from statsmodels.stats.proportion import proportion_confint\n",
    "import sklearn.neighbors as nb"
   ]
  },
  {
   "cell_type": "code",
   "execution_count": null,
   "id": "5d7868fa",
   "metadata": {},
   "outputs": [],
   "source": [
    "data = pd.read_csv('your_file.csv')\n",
    "X = pd.read_csv('data/X.csv')\n",
    "Y = #series\n",
    "\n",
    "# as a first approach, we will use the standard of 70/30 train/test split (in the future we might adjust it)\n",
    "X_train, X_test, y_train, y_test = train_test_split(X, y, test_size=0.3, random_state=1)"
   ]
  }
 ],
 "metadata": {
  "language_info": {
   "name": "python"
  }
 },
 "nbformat": 4,
 "nbformat_minor": 5
}
